{
 "cells": [
  {
   "cell_type": "code",
   "execution_count": 4,
   "id": "a16a4445-5cee-4e11-9394-bbb5a03fc7f0",
   "metadata": {},
   "outputs": [],
   "source": [
    "import pandas as pd\n",
    "import numpy as np\n",
    "import random\n",
    "import re\n",
    "import os\n",
    "import json\n",
    "import warnings\n",
    "import matplotlib.pyplot as plt\n",
    "import tensorflow as tf\n",
    "from tensorflow.keras.saving import register_keras_serializable\n",
    "from tensorflow.keras.preprocessing.text import Tokenizer\n",
    "from tensorflow.keras.preprocessing.sequence import pad_sequences\n",
    "from tensorflow.keras.utils import to_categorical\n",
    "from tensorflow.keras.layers import LSTM, Embedding, Dense, Masking, Layer\n",
    "from tensorflow.keras.models import Model\n",
    "from tensorflow.keras.optimizers import Adam\n",
    "from tensorflow.keras.callbacks import EarlyStopping, ModelCheckpoint\n",
    "%matplotlib inline\n",
    "warnings.filterwarnings('ignore')       # 성가신 경고는 출력하지 않고 무시한다."
   ]
  },
  {
   "cell_type": "code",
   "execution_count": 5,
   "id": "38e40a55-9723-41fb-96b8-b23ab7937162",
   "metadata": {},
   "outputs": [],
   "source": [
    "directory_path = r\"C:\\Users\\user\\Downloads\\TL_QA_seoul\"\n",
    "\n",
    "json_data_list = []\n",
    "\n",
    "for file_name in os.listdir(directory_path):\n",
    "    if file_name.endswith(\".json\"):\n",
    "        file_path = os.path.join(directory_path, file_name)\n",
    "        try:\n",
    "            with open(file_path, 'r', encoding='utf-8') as file:\n",
    "                data = json.load(file)\n",
    "\n",
    "                if 'images' in data:\n",
    "                    del data['images']\n",
    "\n",
    "                json_data_list.append(data)\n",
    "\n",
    "                with open(file_path, 'w', encoding='utf-8') as file:\n",
    "                    json.dump(data, file, ensure_ascii=False, indent=4)\n",
    "\n",
    "        except FileNotFoundError:\n",
    "            print(f\"File {file_name} not found.\")\n",
    "        except json.JSONDecodeError:\n",
    "            print(f\"Error decoding JSON from file {file_name}.\")"
   ]
  },
  {
   "cell_type": "code",
   "execution_count": 6,
   "id": "b0c1ad9d-9dd5-49de-b8e0-f250ff9e11d5",
   "metadata": {},
   "outputs": [
    {
     "name": "stdout",
     "output_type": "stream",
     "text": [
      "Questions: ['이 곳의 주소를 알 수 있나요?', '이 곳의 주요 메뉴는 무엇이 있나요?', '이 곳에 인접한 시설이 있나요?', '주차시설이 있나요?', '이 곳의 주소는 어떻게 되나요?']\n",
      "Answers: ['서울 강서구 우장산로16길 26', '생대구탕, 특대구탕', '강서구청, 커피바알아, 우리은행', '없음', '서울 강서구 우장산로16길 26']\n"
     ]
    }
   ],
   "source": [
    "questions = []\n",
    "answers = []\n",
    "\n",
    "for item in json_data_list:\n",
    "    if 'annotations' in item:\n",
    "        for annotation in item['annotations']:\n",
    "            if 'question' in annotation:\n",
    "                for question in annotation['question']:\n",
    "                    questions.append(question['question'])\n",
    "                    answers.append(question['answer'])\n",
    "\n",
    "print(\"Questions:\", questions[:5])\n",
    "print(\"Answers:\", answers[:5])"
   ]
  },
  {
   "cell_type": "code",
   "execution_count": 7,
   "id": "1330fe68-7660-4437-b23d-b02ed17e105c",
   "metadata": {},
   "outputs": [
    {
     "name": "stdout",
     "output_type": "stream",
     "text": [
      "                       Source             Target\n",
      "0           이 곳의 주소를 알 수 있나요?  서울 강서구 우장산로16길 26\n",
      "1        이 곳의 주요 메뉴는 무엇이 있나요?         생대구탕, 특대구탕\n",
      "2           이 곳에 인접한 시설이 있나요?  강서구청, 커피바알아, 우리은행\n",
      "3                  주차시설이 있나요?                 없음\n",
      "4           이 곳의 주소는 어떻게 되나요?  서울 강서구 우장산로16길 26\n",
      "...                       ...                ...\n",
      "36055       이 곳의 주소를 알 수 있나요?  서울 동작구 동작대로35길 10\n",
      "36056           연락처를 알 수 있나요?      070-8876-6424\n",
      "36057              주차시설이 있나요?                 없음\n",
      "36058          영업시간은 어떻게 되나요?      12:00 - 22:00\n",
      "36059  이 곳의 대표적인 메뉴는 무엇이 있나요?        아메리카노, 카페라떼\n",
      "\n",
      "[36060 rows x 2 columns]\n"
     ]
    }
   ],
   "source": [
    "my_data = pd.DataFrame({\n",
    "    'Source': questions,\n",
    "    'Target': answers\n",
    "})\n",
    "\n",
    "print(my_data)"
   ]
  },
  {
   "cell_type": "code",
   "execution_count": 9,
   "id": "2cc495fc-b2c7-439e-b64f-8ce503dd154f",
   "metadata": {},
   "outputs": [],
   "source": [
    "# 단어 단위로 토큰화 하고, decoder 입력과 출력에 필요한 Target에는 <sos>태그와 <eos> 태그를 붙여준다.\n",
    "my_src_in = []\n",
    "my_tar_in = []\n",
    "my_tar_out = []\n",
    "for i in range(my_data.shape[0]):\n",
    "    a_src = my_data.Source.loc[i].split()           # Encoder에 입력되는 Source는 있는 그대로 split해 둘 수 있다.\n",
    "    a_tar = my_data.Target.loc[i]\n",
    "    a_tar_in = [a_word for a_word in ('<sos> ' + a_tar).split()]\n",
    "    a_tar_out = [a_word for a_word in (a_tar + ' <eos>').split()]\n",
    "    my_src_in.append(a_src)\n",
    "    my_tar_in.append(a_tar_in)\n",
    "    my_tar_out.append(a_tar_out)"
   ]
  },
  {
   "cell_type": "code",
   "execution_count": 10,
   "id": "64db292a-dcb0-4e98-88f3-97d0c9ba0be9",
   "metadata": {},
   "outputs": [],
   "source": [
    "# 정수 인코딩 Source.\n",
    "my_tokenizer_src = Tokenizer()\n",
    "my_tokenizer_src.fit_on_texts(my_src_in)\n",
    "my_encoder_in = my_tokenizer_src.texts_to_sequences(my_src_in)\n",
    "\n",
    "# 정수 인코딩 Target. In과 Out 별도\n",
    "my_tokenizer_tar = Tokenizer()\n",
    "my_tokenizer_tar.fit_on_texts(my_tar_in)         # 학습.\n",
    "my_tokenizer_tar.fit_on_texts(my_tar_out)        # 추가 학습.\n",
    "my_decoder_in = my_tokenizer_tar.texts_to_sequences(my_tar_in)\n",
    "my_decoder_out = my_tokenizer_tar.texts_to_sequences(my_tar_out)"
   ]
  },
  {
   "cell_type": "code",
   "execution_count": 11,
   "id": "cc1d4d6d-5ab6-42fc-8619-e7a2e6c70d11",
   "metadata": {},
   "outputs": [],
   "source": [
    "# 패딩.\n",
    "my_encoder_in_pad = pad_sequences(my_encoder_in, padding='post')\n",
    "my_decoder_in_pad = pad_sequences(my_decoder_in, padding='post')\n",
    "my_decoder_out_pad = pad_sequences(my_decoder_out, padding='post')"
   ]
  },
  {
   "cell_type": "code",
   "execution_count": 12,
   "id": "374ed93f-bf52-49f9-8fb2-9da0e9f9955c",
   "metadata": {},
   "outputs": [
    {
     "name": "stdout",
     "output_type": "stream",
     "text": [
      "1\n",
      "2\n"
     ]
    }
   ],
   "source": [
    "# 다음과 같이 tar_in에만 들어있는 '<sos>'와 '<eos>'가 제대로 학습되었음을 확인해 본다.\n",
    "print( my_tokenizer_tar.word_index['<sos>'] )\n",
    "print( my_tokenizer_tar.word_index['<eos>'] )"
   ]
  },
  {
   "cell_type": "code",
   "execution_count": 13,
   "id": "b7891aa9-3608-4409-9668-39cd76d7d363",
   "metadata": {},
   "outputs": [
    {
     "name": "stdout",
     "output_type": "stream",
     "text": [
      "Source vocabulary size : 162, Target vocabulary size : 9413\n"
     ]
    }
   ],
   "source": [
    "# Vocabulary 크기.\n",
    "SRC_VOCAB_SIZE = len(my_tokenizer_src.word_index) + 1     # 0이 패딩용으로 추가되어 +1.\n",
    "TAR_VOCAB_SIZE = len(my_tokenizer_tar.word_index) + 1     # 0이 패딩용으로 추가되어 +1.\n",
    "print('Source vocabulary size : {:d}, Target vocabulary size : {:d}'.format(SRC_VOCAB_SIZE, TAR_VOCAB_SIZE))"
   ]
  },
  {
   "cell_type": "code",
   "execution_count": 14,
   "id": "ce518583-6c86-4fcb-ab3b-4515694587cb",
   "metadata": {},
   "outputs": [],
   "source": [
    "# 변환 사전을 간추려 둔다.\n",
    "src_to_index = my_tokenizer_src.word_index\n",
    "index_to_src = my_tokenizer_src.index_word\n",
    "\n",
    "tar_to_index = my_tokenizer_tar.word_index\n",
    "index_to_tar = my_tokenizer_tar.index_word"
   ]
  },
  {
   "cell_type": "code",
   "execution_count": 16,
   "id": "c4521baa-8942-43e7-b226-51d5748c1b92",
   "metadata": {},
   "outputs": [],
   "source": [
    "# 데이터 쪼개기 준비.\n",
    "idx = list(range(my_data.shape[0]))\n",
    "random.shuffle(idx)\n",
    "my_encoder_in_pad = my_encoder_in_pad[idx]\n",
    "my_decoder_in_pad = my_decoder_in_pad[idx]\n",
    "my_decoder_out_pad = my_decoder_out_pad[idx]"
   ]
  },
  {
   "cell_type": "code",
   "execution_count": 18,
   "id": "72bdb8bf-3fcf-407d-8630-1d6d2ef6e7b7",
   "metadata": {},
   "outputs": [],
   "source": [
    "n_data = len(my_data)  # my_data의 길이를 가져옵니다.\n",
    "n_train = int(n_data * 0.8)  # 데이터의 80%를 학습 데이터로 사용합니다.\n",
    "n_test = n_data - n_train\n",
    "my_encoder_in_train = my_encoder_in_pad[:n_train]\n",
    "my_decoder_in_train = my_decoder_in_pad[:n_train]\n",
    "my_decoder_out_train = my_decoder_out_pad[:n_train]\n",
    "\n",
    "my_encoder_in_test = my_encoder_in_pad[-n_train:]\n",
    "my_decoder_in_test = my_decoder_in_pad[-n_train:]\n",
    "my_decoder_out_test = my_decoder_out_pad[-n_train:]"
   ]
  },
  {
   "cell_type": "code",
   "execution_count": 19,
   "id": "3fdc901a-3468-42c4-b5df-14d37564df78",
   "metadata": {},
   "outputs": [],
   "source": [
    "N_EMBEDDING = 50                   # Embedding 차원의 크기 정의.\n",
    "N_HIDDEN = 64                      # 은닉 차원의 수."
   ]
  },
  {
   "cell_type": "code",
   "execution_count": 20,
   "id": "37ee1784-30a8-4dc8-9eab-69720d2b83a9",
   "metadata": {},
   "outputs": [],
   "source": [
    "# 인코더 Layer 정의.\n",
    "# 부모 클래스 Layer를 상속받아서 정의된다.\n",
    "\n",
    "# 향후 저장과 로딩이 용이하도록 데코레이터 적용.\n",
    "@register_keras_serializable()\n",
    "class Encoder(Layer):\n",
    "\n",
    "# 층 구조를 정의한다.\n",
    "  def __init__(self, vocab_size, n_embedding, n_hidden):\n",
    "    super(Encoder, self).__init__()                                   # 부모 클래스의 생성자 함수 호출.\n",
    "    self.vocab_size = vocab_size\n",
    "    self.n_embedding = n_embedding\n",
    "    self.n_hidden = n_hidden\n",
    "    self.embedding = Embedding(self.vocab_size, self.n_embedding)     # Embedding 층. 정수 1개씩 입력 전제.\n",
    "    self.masking = Masking(mask_value=0.0)                            # 패딩 0은 연산에서 제외. 해당 스텝은 스킵한다.\n",
    "    self.lstm = LSTM(units = self.n_hidden, return_state=True)        # 최종 상태값 반환을 위해 return_state=True. 은닉 상태와 셀 상태 반환.\n",
    "\n",
    "# 객체가 호출될 때 실제 사용되는 함수.\n",
    "  def call(self, x):\n",
    "    x = self.embedding(x)\n",
    "    x = self.masking(x)\n",
    "    _ , state_h, state_c = self.lstm(x)\n",
    "    return [state_h, state_c]                                         # 최종 상태만 반환."
   ]
  },
  {
   "cell_type": "code",
   "execution_count": 21,
   "id": "6e1449c3-ea82-4b13-9a6f-d26b2326e1d3",
   "metadata": {},
   "outputs": [],
   "source": [
    "# 디코더 Layer 정의.\n",
    "# 부모 클래스 Layer를 상속받아서 정의된다.\n",
    "\n",
    "# 향후 저장과 로딩이 용이하도록 데코레이터 적용.\n",
    "@register_keras_serializable()\n",
    "class Decoder(Layer):\n",
    "\n",
    "# 층 구조를 정의한다.\n",
    "  def __init__(self, vocab_size, n_embedding, n_hidden):\n",
    "    super(Decoder, self).__init__()                                   # 부모 클래스의 생성자 함수 호출.\n",
    "    self.vocab_size = vocab_size\n",
    "    self.n_embedding = n_embedding\n",
    "    self.n_hidden = n_hidden\n",
    "    self.embedding = Embedding(self.vocab_size, self.n_embedding)     # Embedding 층. 정수 1개씩 입력 전제.\n",
    "    self.masking = Masking(mask_value=0.0)                            # 패딩 0은 연산에서 제외. 해당 스텝은 스킵한다.\n",
    "    self.lstm = LSTM(units=self.n_hidden, return_sequences=True, return_state=True) # 상태값 리턴을 위해 return_state=True, 모든 시점에 대해서 단어를 예측하기 위해 return_sequences=True.\n",
    "    self.dense = Dense(units=self.vocab_size, activation='softmax')   # 모든 시점의 결과에 대해서 소프트맥스 함수를 적용하는 출력층을 통해 단어 예측.\n",
    "\n",
    "# 객체가 호출될 때 실제 사용되는 함수.\n",
    "  def call(self, x, prev_states):\n",
    "    x = self.embedding(x)\n",
    "    x = self.masking(x)\n",
    "    decoder_outputs, _, _ = self.lstm(x, initial_state=prev_states)     # initial_state에 주목한다. 출력된 state_h, state_c는 그대로 버린다.\n",
    "    x = self.dense(decoder_outputs)\n",
    "    return x"
   ]
  },
  {
   "cell_type": "code",
   "execution_count": 22,
   "id": "9461113f-afe1-4194-9f19-2d4dcbdf47f0",
   "metadata": {},
   "outputs": [],
   "source": [
    "# Seq2Seq 정의.\n",
    "# 부모 클래스 Model를 상속받아서 정의된다.\n",
    "\n",
    "# 향후 저장과 로딩이 용이하도록 데코레이터 적용.\n",
    "@register_keras_serializable()\n",
    "class Seq2Seq(Model):\n",
    "  def __init__(self, src_vocab_size, tar_vocab_size, n_embedding, n_hidden):\n",
    "    super(Seq2Seq, self).__init__()                                   # 부모 클래스의 생성자 함수 호출.\n",
    "    self.encoder = Encoder(src_vocab_size, n_embedding, n_hidden)     # 인코더 객체 생성.\n",
    "    self.decoder = Decoder(tar_vocab_size, n_embedding, n_hidden)     # 디코더 객체 생성.\n",
    "\n",
    "  def call(self, x):\n",
    "    encoder_inputs , decoder_inputs = x                               # 입력을 세분화 한다.\n",
    "    encoder_states = self.encoder(encoder_inputs)                     # 인코더의 최종 상태를 만든다.\n",
    "    decoder_outputs = self.decoder(decoder_inputs, encoder_states )   # 인코더의 최종 상태를 입력해서 디코더 실행.\n",
    "    return decoder_outputs\n",
    "\n",
    "  # 디코더 한 스텝씩 예측 처리해 주는 함수.\n",
    "  def predict_one_step(self, encoder_inputs, decoder_input, decoder_initial_states=None):\n",
    "    if not decoder_initial_states:                                    # decoder_initial_states가 입력되지 않았다면, 첫 번째 스텝이다.\n",
    "      encoder_states = self.encoder(encoder_inputs)                   # 인코더의 최종 상태를 만든다.\n",
    "      decoder_initial_states = encoder_states                         # 인코더의 최종 상태가 바로 디코더의 초기 상태.\n",
    "    x = self.decoder.embedding(decoder_input)\n",
    "    x = self.decoder.masking(x)\n",
    "    decoder_outputs, state_h, state_c = self.decoder.lstm(x, initial_state=decoder_initial_states)\n",
    "    decoder_probs = self.decoder.dense(decoder_outputs)               # 인덱스별 확률!\n",
    "    return decoder_probs, state_h, state_c"
   ]
  },
  {
   "cell_type": "code",
   "execution_count": 23,
   "id": "fa7e5679-4290-4bbd-8470-14455ec8b66a",
   "metadata": {},
   "outputs": [],
   "source": [
    "# Seq2Seq 모델 객체 생성.\n",
    "my_model = Seq2Seq(SRC_VOCAB_SIZE, TAR_VOCAB_SIZE, N_EMBEDDING, N_HIDDEN)"
   ]
  },
  {
   "cell_type": "code",
   "execution_count": 24,
   "id": "8a3525b1-437c-4ada-b1b6-4b3467622f80",
   "metadata": {},
   "outputs": [],
   "source": [
    "n_epochs = 500                    # Number of epochs.\n",
    "batch_size = 128                  # Size of each batch.\n",
    "learn_rate = 0.0005               # Learning rate."
   ]
  },
  {
   "cell_type": "code",
   "execution_count": 25,
   "id": "88e2cdef-bb24-49e7-8f79-e7d9c88c3778",
   "metadata": {},
   "outputs": [],
   "source": [
    "my_optimizer=Adam(learning_rate=learn_rate)\n",
    "my_model.compile(optimizer=my_optimizer, loss='sparse_categorical_crossentropy', metrics=['accuracy']) # one-hot-encoding > 정수 인코딩(sparse하다)"
   ]
  },
  {
   "cell_type": "code",
   "execution_count": 27,
   "id": "6729104d-8981-498e-b655-eee145288dc9",
   "metadata": {},
   "outputs": [
    {
     "name": "stdout",
     "output_type": "stream",
     "text": [
      "Epoch 223: early stopping\n"
     ]
    }
   ],
   "source": [
    "# Train\n",
    "callback1 = EarlyStopping(monitor='val_loss', mode='min', verbose=1, patience=3)  # 조기 종료 허락\n",
    "callback2 = ModelCheckpoint(filepath='./models/seq2seq_01.keras', monitor='val_loss', verbose=0, save_best_only=True, save_weights_only=False)  # 최적 모델 저장\n",
    "\n",
    "my_summary = my_model.fit(\n",
    "    x=[my_encoder_in_train, my_decoder_in_train], \n",
    "    y=my_decoder_out_train, \n",
    "    validation_data=([my_encoder_in_test, my_decoder_in_test], my_decoder_out_test), \n",
    "    batch_size=batch_size, \n",
    "    epochs=n_epochs, \n",
    "    callbacks=[callback1, callback2], \n",
    "    verbose=0\n",
    ")"
   ]
  },
  {
   "cell_type": "code",
   "execution_count": 28,
   "id": "2a4e2d12-7218-48fc-891f-08f79f876662",
   "metadata": {},
   "outputs": [
    {
     "data": {
      "image/png": "[encoded data removed]",
      "text/plain": [
       "<Figure size 640x480 with 1 Axes>"
      ]
     },
     "metadata": {},
     "output_type": "display_data"
    }
   ],
   "source": [
    "# 학습 history 출력.\n",
    "plt.plot(my_summary.history['loss'], c='b')\n",
    "plt.plot(my_summary.history['val_loss'], c='g')\n",
    "plt.title('Training History')\n",
    "plt.ylabel('Loss')\n",
    "plt.xlabel('Epoch')\n",
    "plt.legend(['Train', 'Validation'], loc='upper right')\n",
    "plt.show()"
   ]
  },
  {
   "cell_type": "code",
   "execution_count": 29,
   "id": "39f86af5-a3bf-4994-bafa-c7af1e47db8c",
   "metadata": {},
   "outputs": [],
   "source": [
    "# 디코더를 사용해서 예측해 주는 헬퍼 함수.\n",
    "MAX_SEQUENCE = 30                         # 문장의 최대 길이.\n",
    "def decode_sequence(input_seq):\n",
    "\n",
    "    # <sos>에 해당하는 정수 생성. 디코더의 시작점을 의미한다.\n",
    "    target_seq = np.zeros((1,1))\n",
    "    target_seq[0, 0] = tar_to_index['<sos>']\n",
    "\n",
    "    stop_condition = False\n",
    "    decoded_sentence = ''\n",
    "\n",
    "    # stop_condition이 True가 될 때까지 스텝 한개씩 반복한다. batch_size = 1로 설정해서 단순화 한다.\n",
    "    # 다음은 인코더의 최종 상태를 디코더의 초기 상태로 받겠다는 의미.\n",
    "    initial_states = None\n",
    "    while not stop_condition:\n",
    "        # <sos>와 이전 시점의 상태 initial_states를 현 시점의 초기 상태로 사용한다.\n",
    "        probs, h, c = my_model.predict_one_step(input_seq, target_seq, initial_states)\n",
    "\n",
    "        # 현 스텝에서 출력된 상태를 다음 스텝의 입력으로 사용하기 위해서 저장해 둔다.\n",
    "        initial_states = [h, c]\n",
    "\n",
    "        # 예측 결과를 단어로 변환한다.\n",
    "        # 유일한 타임 스텝의 (확률) 출력 벡터에서 argmax로 해당 인덱스를 가져온다.\n",
    "        pred_index = np.argmax(probs[0, -1, :])\n",
    "\n",
    "        # 인덱스를 단어로 변환해 준다.\n",
    "        pred_word = index_to_tar[pred_index]\n",
    "\n",
    "        # <eos>에 도달 또는 최대 길이 초과시 중단.\n",
    "        if (pred_word == '<eos>' or len(decoded_sentence) >= MAX_SEQUENCE):\n",
    "          stop_condition = True\n",
    "          continue\n",
    "\n",
    "        # 예측된 단어를 결과 문장에 이어 붙인다.\n",
    "        decoded_sentence += ' ' + pred_word\n",
    "\n",
    "        # 현 스텝의 예측을 다음 스텝의 입력으로 사용하기 위해서 저장한다.\n",
    "        target_seq = np.zeros((1,1))\n",
    "        target_seq[0, 0] = pred_index\n",
    "\n",
    "    return decoded_sentence"
   ]
  },
  {
   "cell_type": "code",
   "execution_count": 30,
   "id": "39003335-f1f7-408b-bbc0-7334067caacf",
   "metadata": {},
   "outputs": [],
   "source": [
    "# 정수 시퀀스를 Source 문장으로 변환해 주는 핼퍼 함수.\n",
    "def seq2src(input_seq):\n",
    "    temp=''\n",
    "    for i in input_seq:\n",
    "        if(i!=0):\n",
    "            temp = temp + index_to_src[i] + ' '\n",
    "    return temp\n",
    "\n",
    "# 정수 시퀀스를 Target 문장으로 변환해 주는 헬퍼 함수.\n",
    "def seq2tar(input_seq):\n",
    "    temp=''\n",
    "    for i in input_seq:\n",
    "        if((i!=0 and i!=tar_to_index['<sos>']) and i!=tar_to_index['<eos>']):\n",
    "            temp = temp + index_to_tar[i] + ' '\n",
    "    return temp"
   ]
  },
  {
   "cell_type": "code",
   "execution_count": 31,
   "id": "9971bb3f-1fa7-488b-b997-be2aebed069d",
   "metadata": {},
   "outputs": [
    {
     "name": "stdout",
     "output_type": "stream",
     "text": [
      "Input sentence     : 이 곳에 인접한 시설이 있나요? \n",
      "Correct sentence   : 아차산역 3번 출구 \n",
      "Machine translated :  흑석역 4번 출구\n",
      "\n",
      "\n",
      "Input sentence     : 이 곳의 주요 메뉴는 무엇이 있나요? \n",
      "Correct sentence   : 딸기잼, 카스테라 \n",
      "Machine translated :  아메리카노, 카페라떼\n",
      "\n",
      "\n",
      "Input sentence     : 이 곳에 인접한 시설이 있나요? \n",
      "Correct sentence   : 지하철 뚝섬역 8번 출구 \n",
      "Machine translated :  흑석역 4번 출구\n",
      "\n",
      "\n",
      "Input sentence     : 영업시간은 몇시부터 몇시까지로 기재되어 있나요? \n",
      "Correct sentence   : 10:00/11:00~22:00 \n",
      "Machine translated :  알수없음\n",
      "\n",
      "\n",
      "Input sentence     : 휴무일은 어떻게 되나요? \n",
      "Correct sentence   : 매주 월요일 \n",
      "Machine translated :  없음\n",
      "\n",
      "\n"
     ]
    }
   ],
   "source": [
    "# 학습용 데이터를 다시 사용해서 예측 테스트.\n",
    "for i in [random.randint(0,n_train-1) for _ in range(5)]:\n",
    "    input_seq = my_encoder_in_train[i: i + 1]\n",
    "    decoded_sentence = decode_sequence(input_seq)\n",
    "\n",
    "    print('Input sentence     :',seq2src(my_encoder_in_train[i]))\n",
    "    print('Correct sentence   :',seq2tar(my_decoder_in_train[i]))\n",
    "    print('Machine translated :',decoded_sentence)\n",
    "    print('\\n')"
   ]
  },
  {
   "cell_type": "code",
   "execution_count": 32,
   "id": "018362e0-2232-4d39-8eef-3e535c58c228",
   "metadata": {},
   "outputs": [
    {
     "name": "stdout",
     "output_type": "stream",
     "text": [
      "Input sentence     : 주차시설이 있나요? \n",
      "Correct sentence   : 없음 \n",
      "Machine translated :  있음\n",
      "\n",
      "\n",
      "Input sentence     : 영업시간은 어떻게 되나요? \n",
      "Correct sentence   : 10:00-03:00 \n",
      "Machine translated :  11:00 - 21:00\n",
      "\n",
      "\n",
      "Input sentence     : 휴무일은 어떻게 되나요? \n",
      "Correct sentence   : 없음 \n",
      "Machine translated :  없음\n",
      "\n",
      "\n",
      "Input sentence     : 이 곳의 주요 메뉴는 무엇이 있나요? \n",
      "Correct sentence   : 필터커피, 에스프레소 \n",
      "Machine translated :  아메리카노, 카페라떼\n",
      "\n",
      "\n",
      "Input sentence     : 이 곳의 대표적인 메뉴를 알 수 있나요? \n",
      "Correct sentence   : 범전골, 백계 \n",
      "Machine translated :  아메리카노, 카페라떼\n",
      "\n",
      "\n"
     ]
    }
   ],
   "source": [
    "# 별도의 시험용 데이터를 사용해서 예측 테스트.\n",
    "for i in [random.randint(0,n_test-1) for _ in range(5)]:\n",
    "    input_seq = my_encoder_in_test[i: i + 1]\n",
    "    decoded_sentence = decode_sequence(input_seq)\n",
    "\n",
    "    print('Input sentence     :',seq2src(my_encoder_in_test[i]))\n",
    "    print('Correct sentence   :',seq2tar(my_decoder_in_test[i]))\n",
    "    print('Machine translated :',decoded_sentence)\n",
    "    print('\\n')"
   ]
  },
  {
   "cell_type": "code",
   "execution_count": null,
   "id": "b34b9d52-314e-4ea5-87d0-c867b9a77845",
   "metadata": {},
   "outputs": [],
   "source": []
  }
 ],
 "metadata": {
  "kernelspec": {
   "display_name": "Python 3 (ipykernel)",
   "language": "python",
   "name": "python3"
  },
  "language_info": {
   "codemirror_mode": {
    "name": "ipython",
    "version": 3
   },
   "file_extension": ".py",
   "mimetype": "text/x-python",
   "name": "python",
   "nbconvert_exporter": "python",
   "pygments_lexer": "ipython3",
   "version": "3.11.7"
  }
 },
 "nbformat": 4,
 "nbformat_minor": 5
}
